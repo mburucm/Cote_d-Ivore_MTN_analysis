{
  "nbformat": 4,
  "nbformat_minor": 0,
  "metadata": {
    "colab": {
      "name": "Cote d'Ivore MTN analysis.ipynb",
      "provenance": [],
      "collapsed_sections": []
    },
    "kernelspec": {
      "display_name": "Python 3",
      "language": "python",
      "name": "python3"
    },
    "language_info": {
      "codemirror_mode": {
        "name": "ipython",
        "version": 3
      },
      "file_extension": ".py",
      "mimetype": "text/x-python",
      "name": "python",
      "nbconvert_exporter": "python",
      "pygments_lexer": "ipython3",
      "version": "3.6.0"
    }
  },
  "cells": [
    {
      "cell_type": "markdown",
      "metadata": {
        "id": "EzfKGtraN6Hz"
      },
      "source": [
        "# Anaysing the Cote d'Ivore MTN problem\n",
        "In this project, we will use the CRISP-DM process to anayse the Cote d'Ivore MTN problem."
      ]
    },
    {
      "cell_type": "markdown",
      "metadata": {
        "id": "7MMgxLquN6H7"
      },
      "source": [
        "## Business Understanding\n",
        "The CRISP-DM process starts with the understanding of the business problem. In this project we try to answer to the following  business questions:\n",
        "* Which region is most used for the 3 days\n",
        "* City that is used the most during business hours?\n",
        "* How frequently was each product used in the dataset?\n",
        "* What are the busiest times of the day in terms of user traffic [This should be key in identifying the most suitable times for upgrades]"
      ]
    },
    {
      "cell_type": "markdown",
      "metadata": {
        "id": "fCBUWVtnN6H8"
      },
      "source": [
        "## Data Understanding "
      ]
    },
    {
      "cell_type": "code",
      "metadata": {
        "collapsed": true,
        "id": "4j1FhyqSN6H-"
      },
      "source": [
        "import pandas as pd\n",
        "import numpy as np"
      ],
      "execution_count": 101,
      "outputs": []
    },
    {
      "cell_type": "code",
      "metadata": {
        "colab": {
          "base_uri": "https://localhost:8080/"
        },
        "id": "JbDVLsHHR-xF",
        "outputId": "886363fb-c9e4-4c86-8514-dcb40150debe"
      },
      "source": [
        "from google.colab import drive\n",
        "drive.mount('/content/drive')"
      ],
      "execution_count": 56,
      "outputs": [
        {
          "output_type": "stream",
          "name": "stdout",
          "text": [
            "Drive already mounted at /content/drive; to attempt to forcibly remount, call drive.mount(\"/content/drive\", force_remount=True).\n"
          ]
        }
      ]
    },
    {
      "cell_type": "code",
      "metadata": {
        "collapsed": true,
        "id": "sncU8e-3N6H_"
      },
      "source": [
        "# dataset1 = pd.read_csv(r\"/Telcom_dataset.csv\")\n",
        "description1 = pd.read_excel(\"/content/drive/MyDrive/Colab Notebooks/Data/CDR_description.xlsx\", sheet_name=None)\n",
        "description2 = pd.read_excel(\"/content/drive/MyDrive/Colab Notebooks/Data/cells_geo_description.xlsx\", sheet_name=None)\n"
      ],
      "execution_count": 102,
      "outputs": []
    },
    {
      "cell_type": "markdown",
      "metadata": {
        "id": "pvMOVOwWTAF7"
      },
      "source": [
        ""
      ]
    },
    {
      "cell_type": "code",
      "metadata": {
        "id": "Sa_IKBgHN6IA",
        "colab": {
          "base_uri": "https://localhost:8080/"
        },
        "outputId": "ffe83bf7-a673-4e14-9d19-f4e25dc40874"
      },
      "source": [
        "description1"
      ],
      "execution_count": 65,
      "outputs": [
        {
          "output_type": "execute_result",
          "data": {
            "text/plain": [
              "{'Sheet1':        Column name                                        Description   Format\n",
              " 0          PRODUCT                                       Voice or SMS   String\n",
              " 1            VALUE                                      Billing price  Integer\n",
              " 2        DATE_TIME               Time in format yyyy-MM-dd hh:mm:ss.0   String\n",
              " 3     CELL_ON_SITE  Which cell in the site was used (not needed here)  Integer\n",
              " 4  DW_A_NUMBER_INT  Anonymized phone number of the person for whic...   String\n",
              " 5  DW_B_NUMBER_INT        Anonymized phone number of the counterparty   String\n",
              " 6        COUNTRY_A                  Country of party A (useless here)   String\n",
              " 7        COUNTRY_B                  Country of party B (useless here)   String\n",
              " 8          CELL_ID                                     ID of the cell   String\n",
              " 9          SITE_ID                                     ID of the SITE   String}"
            ]
          },
          "metadata": {},
          "execution_count": 65
        }
      ]
    },
    {
      "cell_type": "markdown",
      "metadata": {
        "id": "MUrzN4Q9N6IG"
      },
      "source": [
        "Now we see that our data contains the correct column names. Here is a detailed description of the first dataset, tht contains the citiesdataset columns as described in the dataset CRD_description.\n",
        " \n",
        " VILLES - City - String\n",
        " STATUS - In Service or not - String\n",
        " LOCALISATION - in ABIDJAN or not  String\n",
        " DECOUPZONE - Geographical Zone - String\n",
        " ZONENAME - Name of Zone - String\n",
        " LONGITUDE - Longitude - Float\n",
        " LATITUDE - Latitude - Float\n",
        " REGION - Region - String\n",
        " AREA -  Area - String\n",
        " CELL_ID -  ID of the cell - String\n",
        " SITE_CODE - Site - (there are several cells per site, severa...  String}\n",
        "\n",
        "For the second dataset with th products, here is a description of the columns.\n",
        "\n",
        " 0          PRODUCT                                       Voice or SMS   String\n",
        " 1            VALUE                                      Billing price  Integer\n",
        " 2        DATE_TIME               Time in format yyyy-MM-dd hh:mm:ss.0   String\n",
        " 3     CELL_ON_SITE  Which cell in the site was used (not needed here)  Integer\n",
        " 4  DW_A_NUMBER_INT  Anonymized phone number of the person for whic...   String\n",
        " 5  DW_B_NUMBER_INT        Anonymized phone number of the counterparty   String\n",
        " 6        COUNTRY_A                  Country of party A (useless here)   String\n",
        " 7        COUNTRY_B                  Country of party B (useless here)   String\n",
        " 8          CELL_ID                                     ID of the cell   String\n",
        " 9          SITE_ID                                     ID of the SITE   String}"
      ]
    },
    {
      "cell_type": "markdown",
      "metadata": {
        "id": "gCDbSz2aN6IJ"
      },
      "source": [
        "## Data Preparation"
      ]
    },
    {
      "cell_type": "markdown",
      "metadata": {
        "id": "SCAs2uR9jjFn"
      },
      "source": [
        "**Dataset 1** -- \n",
        "The geographic data \n",
        "look for missiong values and fill thom"
      ]
    },
    {
      "cell_type": "code",
      "metadata": {
        "id": "NV82n8pkkz9I",
        "colab": {
          "base_uri": "https://localhost:8080/",
          "height": 414
        },
        "outputId": "92cccef4-90a5-451c-df0f-7e6d5203315d"
      },
      "source": [
        "cells_geo = pd.read_csv(r\"/content/drive/MyDrive/Colab Notebooks/Data/cells_geo.csv\")\n",
        "cells_geo\n",
        "\n",
        "# cells_geo.fillna(cells_geo.mean(), inplace=True)"
      ],
      "execution_count": 103,
      "outputs": [
        {
          "output_type": "execute_result",
          "data": {
            "text/html": [
              "<div>\n",
              "<style scoped>\n",
              "    .dataframe tbody tr th:only-of-type {\n",
              "        vertical-align: middle;\n",
              "    }\n",
              "\n",
              "    .dataframe tbody tr th {\n",
              "        vertical-align: top;\n",
              "    }\n",
              "\n",
              "    .dataframe thead th {\n",
              "        text-align: right;\n",
              "    }\n",
              "</style>\n",
              "<table border=\"1\" class=\"dataframe\">\n",
              "  <thead>\n",
              "    <tr style=\"text-align: right;\">\n",
              "      <th></th>\n",
              "      <th>Unnamed: 0</th>\n",
              "      <th>VILLES</th>\n",
              "      <th>STATUS</th>\n",
              "      <th>LOCALISATION</th>\n",
              "      <th>DECOUPZONE</th>\n",
              "      <th>ZONENAME</th>\n",
              "      <th>LONGITUDE</th>\n",
              "      <th>LATITUDE</th>\n",
              "      <th>REGION</th>\n",
              "      <th>AREA</th>\n",
              "      <th>CELL_ID</th>\n",
              "      <th>SITE_CODE</th>\n",
              "    </tr>\n",
              "  </thead>\n",
              "  <tbody>\n",
              "    <tr>\n",
              "      <th>0</th>\n",
              "      <td>0</td>\n",
              "      <td>ADJAME</td>\n",
              "      <td>In Service</td>\n",
              "      <td>ABIDJAN</td>\n",
              "      <td>\"Abidjan_EST</td>\n",
              "      <td>AGBANNEW</td>\n",
              "      <td>-4.000667</td>\n",
              "      <td>5.368194</td>\n",
              "      <td>LAGUNE</td>\n",
              "      <td>NaN</td>\n",
              "      <td>fbb2e75af3</td>\n",
              "      <td>0bb492ef17</td>\n",
              "    </tr>\n",
              "    <tr>\n",
              "      <th>1</th>\n",
              "      <td>1</td>\n",
              "      <td>ADJAME</td>\n",
              "      <td>In Service</td>\n",
              "      <td>ABIDJAN</td>\n",
              "      <td>\"Abidjan_EST</td>\n",
              "      <td>AGBANNEW</td>\n",
              "      <td>-4.000667</td>\n",
              "      <td>5.368194</td>\n",
              "      <td>LAGUNE</td>\n",
              "      <td>NaN</td>\n",
              "      <td>1502501d78</td>\n",
              "      <td>0bb492ef17</td>\n",
              "    </tr>\n",
              "    <tr>\n",
              "      <th>2</th>\n",
              "      <td>2</td>\n",
              "      <td>ADJAME</td>\n",
              "      <td>In Service</td>\n",
              "      <td>ABIDJAN</td>\n",
              "      <td>\"Abidjan_EST</td>\n",
              "      <td>AGBANNEW</td>\n",
              "      <td>-4.000667</td>\n",
              "      <td>5.368194</td>\n",
              "      <td>LAGUNE</td>\n",
              "      <td>NaN</td>\n",
              "      <td>0c2e182a0c</td>\n",
              "      <td>0bb492ef17</td>\n",
              "    </tr>\n",
              "    <tr>\n",
              "      <th>3</th>\n",
              "      <td>3</td>\n",
              "      <td>ASSINIE</td>\n",
              "      <td>In Service</td>\n",
              "      <td>INTERIEUR</td>\n",
              "      <td>Grand-EST</td>\n",
              "      <td>ASSINIE\"</td>\n",
              "      <td>-3.488467</td>\n",
              "      <td>5.158761</td>\n",
              "      <td>SUD COMOE</td>\n",
              "      <td>NaN</td>\n",
              "      <td>69bdfc69fd</td>\n",
              "      <td>8a1e6ce31f</td>\n",
              "    </tr>\n",
              "    <tr>\n",
              "      <th>4</th>\n",
              "      <td>4</td>\n",
              "      <td>ASSINIE</td>\n",
              "      <td>In Service</td>\n",
              "      <td>INTERIEUR</td>\n",
              "      <td>Grand-EST</td>\n",
              "      <td>ASSINIE\"</td>\n",
              "      <td>-3.488467</td>\n",
              "      <td>5.158761</td>\n",
              "      <td>SUD COMOE</td>\n",
              "      <td>NaN</td>\n",
              "      <td>7a1029d2ab</td>\n",
              "      <td>8a1e6ce31f</td>\n",
              "    </tr>\n",
              "    <tr>\n",
              "      <th>...</th>\n",
              "      <td>...</td>\n",
              "      <td>...</td>\n",
              "      <td>...</td>\n",
              "      <td>...</td>\n",
              "      <td>...</td>\n",
              "      <td>...</td>\n",
              "      <td>...</td>\n",
              "      <td>...</td>\n",
              "      <td>...</td>\n",
              "      <td>...</td>\n",
              "      <td>...</td>\n",
              "      <td>...</td>\n",
              "    </tr>\n",
              "    <tr>\n",
              "      <th>3969</th>\n",
              "      <td>3969</td>\n",
              "      <td>ZUENOULA</td>\n",
              "      <td>In Service</td>\n",
              "      <td>INTERIEUR</td>\n",
              "      <td>Grand-NORD</td>\n",
              "      <td>ZONE A - Grand-NORD</td>\n",
              "      <td>-6.039694</td>\n",
              "      <td>7.428611</td>\n",
              "      <td>MARAHOUE</td>\n",
              "      <td>CENTRE NORTH</td>\n",
              "      <td>1cfc2d7ab1</td>\n",
              "      <td>f91ed8d2e9</td>\n",
              "    </tr>\n",
              "    <tr>\n",
              "      <th>3970</th>\n",
              "      <td>3970</td>\n",
              "      <td>ZUENOULA</td>\n",
              "      <td>In Service</td>\n",
              "      <td>INTERIEUR</td>\n",
              "      <td>Grand-NORD</td>\n",
              "      <td>ZONE A - Grand-NORD</td>\n",
              "      <td>-6.039694</td>\n",
              "      <td>7.428611</td>\n",
              "      <td>MARAHOUE</td>\n",
              "      <td>CENTRE NORTH</td>\n",
              "      <td>3ae1708153</td>\n",
              "      <td>f91ed8d2e9</td>\n",
              "    </tr>\n",
              "    <tr>\n",
              "      <th>3971</th>\n",
              "      <td>3971</td>\n",
              "      <td>ZUENOULA</td>\n",
              "      <td>In Service</td>\n",
              "      <td>INTERIEUR</td>\n",
              "      <td>Grand-NORD</td>\n",
              "      <td>ZONE A - Grand-NORD</td>\n",
              "      <td>-6.065450</td>\n",
              "      <td>7.444592</td>\n",
              "      <td>MARAHOUE</td>\n",
              "      <td>CENTRE NORTH</td>\n",
              "      <td>cb71f8a29c</td>\n",
              "      <td>61bee9c70c</td>\n",
              "    </tr>\n",
              "    <tr>\n",
              "      <th>3972</th>\n",
              "      <td>3972</td>\n",
              "      <td>ZUENOULA</td>\n",
              "      <td>In Service</td>\n",
              "      <td>INTERIEUR</td>\n",
              "      <td>Grand-NORD</td>\n",
              "      <td>ZONE A - Grand-NORD</td>\n",
              "      <td>-6.065450</td>\n",
              "      <td>7.444592</td>\n",
              "      <td>MARAHOUE</td>\n",
              "      <td>CENTRE NORTH</td>\n",
              "      <td>d4a6a0b645</td>\n",
              "      <td>61bee9c70c</td>\n",
              "    </tr>\n",
              "    <tr>\n",
              "      <th>3973</th>\n",
              "      <td>3973</td>\n",
              "      <td>ZUENOULA</td>\n",
              "      <td>In Service</td>\n",
              "      <td>INTERIEUR</td>\n",
              "      <td>Grand-NORD</td>\n",
              "      <td>ZONE A - Grand-NORD</td>\n",
              "      <td>-6.065450</td>\n",
              "      <td>7.444592</td>\n",
              "      <td>MARAHOUE</td>\n",
              "      <td>CENTRE NORTH</td>\n",
              "      <td>f9f3e42589</td>\n",
              "      <td>61bee9c70c</td>\n",
              "    </tr>\n",
              "  </tbody>\n",
              "</table>\n",
              "<p>3974 rows × 12 columns</p>\n",
              "</div>"
            ],
            "text/plain": [
              "      Unnamed: 0    VILLES      STATUS  ...          AREA     CELL_ID   SITE_CODE\n",
              "0              0    ADJAME  In Service  ...           NaN  fbb2e75af3  0bb492ef17\n",
              "1              1    ADJAME  In Service  ...           NaN  1502501d78  0bb492ef17\n",
              "2              2    ADJAME  In Service  ...           NaN  0c2e182a0c  0bb492ef17\n",
              "3              3   ASSINIE  In Service  ...           NaN  69bdfc69fd  8a1e6ce31f\n",
              "4              4   ASSINIE  In Service  ...           NaN  7a1029d2ab  8a1e6ce31f\n",
              "...          ...       ...         ...  ...           ...         ...         ...\n",
              "3969        3969  ZUENOULA  In Service  ...  CENTRE NORTH  1cfc2d7ab1  f91ed8d2e9\n",
              "3970        3970  ZUENOULA  In Service  ...  CENTRE NORTH  3ae1708153  f91ed8d2e9\n",
              "3971        3971  ZUENOULA  In Service  ...  CENTRE NORTH  cb71f8a29c  61bee9c70c\n",
              "3972        3972  ZUENOULA  In Service  ...  CENTRE NORTH  d4a6a0b645  61bee9c70c\n",
              "3973        3973  ZUENOULA  In Service  ...  CENTRE NORTH  f9f3e42589  61bee9c70c\n",
              "\n",
              "[3974 rows x 12 columns]"
            ]
          },
          "metadata": {},
          "execution_count": 103
        }
      ]
    },
    {
      "cell_type": "code",
      "metadata": {
        "colab": {
          "base_uri": "https://localhost:8080/",
          "height": 171
        },
        "id": "fxcMyGVLHqHZ",
        "outputId": "50c8a9d9-10a3-4dec-e118-020b6ae08c59"
      },
      "source": [
        "# # Updating the column names so that they are all correctly spelled\n",
        "# # Writing the column names in all lowercase\n",
        "# # Changing the column name VILLES to CITY for dataset 1\n",
        "\n",
        "cells_geo.columns = ['index', 'city', 'status', 'localisation', 'decoupzone', 'zonename', 'longitude',\n",
        "              'latitude', 'region', 'area', 'cell_id', 'site_id']\n",
        "cells_geo.head(4)"
      ],
      "execution_count": 104,
      "outputs": [
        {
          "output_type": "execute_result",
          "data": {
            "text/html": [
              "<div>\n",
              "<style scoped>\n",
              "    .dataframe tbody tr th:only-of-type {\n",
              "        vertical-align: middle;\n",
              "    }\n",
              "\n",
              "    .dataframe tbody tr th {\n",
              "        vertical-align: top;\n",
              "    }\n",
              "\n",
              "    .dataframe thead th {\n",
              "        text-align: right;\n",
              "    }\n",
              "</style>\n",
              "<table border=\"1\" class=\"dataframe\">\n",
              "  <thead>\n",
              "    <tr style=\"text-align: right;\">\n",
              "      <th></th>\n",
              "      <th>index</th>\n",
              "      <th>city</th>\n",
              "      <th>status</th>\n",
              "      <th>localisation</th>\n",
              "      <th>decoupzone</th>\n",
              "      <th>zonename</th>\n",
              "      <th>longitude</th>\n",
              "      <th>latitude</th>\n",
              "      <th>region</th>\n",
              "      <th>area</th>\n",
              "      <th>cell_id</th>\n",
              "      <th>site_id</th>\n",
              "    </tr>\n",
              "  </thead>\n",
              "  <tbody>\n",
              "    <tr>\n",
              "      <th>0</th>\n",
              "      <td>0</td>\n",
              "      <td>ADJAME</td>\n",
              "      <td>In Service</td>\n",
              "      <td>ABIDJAN</td>\n",
              "      <td>\"Abidjan_EST</td>\n",
              "      <td>AGBANNEW</td>\n",
              "      <td>-4.000667</td>\n",
              "      <td>5.368194</td>\n",
              "      <td>LAGUNE</td>\n",
              "      <td>NaN</td>\n",
              "      <td>fbb2e75af3</td>\n",
              "      <td>0bb492ef17</td>\n",
              "    </tr>\n",
              "    <tr>\n",
              "      <th>1</th>\n",
              "      <td>1</td>\n",
              "      <td>ADJAME</td>\n",
              "      <td>In Service</td>\n",
              "      <td>ABIDJAN</td>\n",
              "      <td>\"Abidjan_EST</td>\n",
              "      <td>AGBANNEW</td>\n",
              "      <td>-4.000667</td>\n",
              "      <td>5.368194</td>\n",
              "      <td>LAGUNE</td>\n",
              "      <td>NaN</td>\n",
              "      <td>1502501d78</td>\n",
              "      <td>0bb492ef17</td>\n",
              "    </tr>\n",
              "    <tr>\n",
              "      <th>2</th>\n",
              "      <td>2</td>\n",
              "      <td>ADJAME</td>\n",
              "      <td>In Service</td>\n",
              "      <td>ABIDJAN</td>\n",
              "      <td>\"Abidjan_EST</td>\n",
              "      <td>AGBANNEW</td>\n",
              "      <td>-4.000667</td>\n",
              "      <td>5.368194</td>\n",
              "      <td>LAGUNE</td>\n",
              "      <td>NaN</td>\n",
              "      <td>0c2e182a0c</td>\n",
              "      <td>0bb492ef17</td>\n",
              "    </tr>\n",
              "    <tr>\n",
              "      <th>3</th>\n",
              "      <td>3</td>\n",
              "      <td>ASSINIE</td>\n",
              "      <td>In Service</td>\n",
              "      <td>INTERIEUR</td>\n",
              "      <td>Grand-EST</td>\n",
              "      <td>ASSINIE\"</td>\n",
              "      <td>-3.488467</td>\n",
              "      <td>5.158761</td>\n",
              "      <td>SUD COMOE</td>\n",
              "      <td>NaN</td>\n",
              "      <td>69bdfc69fd</td>\n",
              "      <td>8a1e6ce31f</td>\n",
              "    </tr>\n",
              "  </tbody>\n",
              "</table>\n",
              "</div>"
            ],
            "text/plain": [
              "   index     city      status  ... area     cell_id     site_id\n",
              "0      0   ADJAME  In Service  ...  NaN  fbb2e75af3  0bb492ef17\n",
              "1      1   ADJAME  In Service  ...  NaN  1502501d78  0bb492ef17\n",
              "2      2   ADJAME  In Service  ...  NaN  0c2e182a0c  0bb492ef17\n",
              "3      3  ASSINIE  In Service  ...  NaN  69bdfc69fd  8a1e6ce31f\n",
              "\n",
              "[4 rows x 12 columns]"
            ]
          },
          "metadata": {},
          "execution_count": 104
        }
      ]
    },
    {
      "cell_type": "markdown",
      "metadata": {
        "id": "rjeBNge7ioUk"
      },
      "source": [
        "**Dataset 2**\n",
        "\n",
        "We have three csv files with samimilar data, we can merge this into one file for easier analysis "
      ]
    },
    {
      "cell_type": "code",
      "metadata": {
        "colab": {
          "base_uri": "https://localhost:8080/",
          "height": 171
        },
        "id": "FAZKi5oCizrx",
        "outputId": "b5af0f3a-26d0-47c3-88d2-c63d8877dcba"
      },
      "source": [
        "# read the three csv files \n",
        "dataset1 = pd.read_csv(r\"/content/drive/MyDrive/Colab Notebooks/Data/Telcom_dataset.csv\")\n",
        "dataset2 = pd.read_csv(r\"/content/drive/MyDrive/Colab Notebooks/Data/Telcom_dataset2_2.csv\")\n",
        "dataset3 = pd.read_csv(r\"/content/drive/MyDrive/Colab Notebooks/Data/Telcom_dataset3.csv\")\n",
        "\n",
        "# Updating the column names for the last 3 DataFrames to ensure uniformity which could come in handy when merging DataFrames\n",
        "# Also changing the DATE_TIME column name to TIME which is a more accurate description of the content of that column\n",
        "# This data cleaning step also corrects column misspellings in the original dataset to ensure that the attribute name represents the content of that attribute\n",
        "# Finally we need to specify the null values\n",
        "\n",
        "dataset1.columns = ['product', 'value', 'time', 'cell_on_site', 'dw_a_number', 'dw_b_number', 'country_a',\n",
        "              'country_b', 'cell_id', 'site_id']\n",
        "dataset1.loc[dataset1['cell_id'] == '#NAME?','cell_id'] = np.nan\n",
        "dataset1.loc[dataset1['site_id'] == '#NAME?','site_id'] = np.nan\n",
        "dataset1.head(4)\n",
        "\n",
        "dataset2.columns = ['product', 'value', 'time', 'cell_on_site', 'dw_a_number', 'dw_b_number', 'country_a',\n",
        "              'country_b', 'cell_id', 'site_id']\n",
        "dataset2.loc[dataset2['cell_id'] == '#NAME?','cell_id'] = np.nan\n",
        "dataset2.loc[dataset2['site_id'] == '#NAME?','site_id'] = np.nan\n",
        "dataset2.head(4)\n",
        "\n",
        "dataset3.columns = ['product', 'value', 'time', 'cell_on_site', 'dw_a_number', 'dw_b_number', 'country_a',\n",
        "              'country_b', 'cell_id', 'site_id']\n",
        "dataset3.loc[dataset3['cell_id'] == '#NAME?','cell_id'] = np.nan\n",
        "dataset3.loc[dataset3['site_id'] == '#NAME?','site_id'] = np.nan\n",
        "\n",
        "dataset3.head(4)"
      ],
      "execution_count": 105,
      "outputs": [
        {
          "output_type": "execute_result",
          "data": {
            "text/html": [
              "<div>\n",
              "<style scoped>\n",
              "    .dataframe tbody tr th:only-of-type {\n",
              "        vertical-align: middle;\n",
              "    }\n",
              "\n",
              "    .dataframe tbody tr th {\n",
              "        vertical-align: top;\n",
              "    }\n",
              "\n",
              "    .dataframe thead th {\n",
              "        text-align: right;\n",
              "    }\n",
              "</style>\n",
              "<table border=\"1\" class=\"dataframe\">\n",
              "  <thead>\n",
              "    <tr style=\"text-align: right;\">\n",
              "      <th></th>\n",
              "      <th>product</th>\n",
              "      <th>value</th>\n",
              "      <th>time</th>\n",
              "      <th>cell_on_site</th>\n",
              "      <th>dw_a_number</th>\n",
              "      <th>dw_b_number</th>\n",
              "      <th>country_a</th>\n",
              "      <th>country_b</th>\n",
              "      <th>cell_id</th>\n",
              "      <th>site_id</th>\n",
              "    </tr>\n",
              "  </thead>\n",
              "  <tbody>\n",
              "    <tr>\n",
              "      <th>0</th>\n",
              "      <td>Voice</td>\n",
              "      <td>61</td>\n",
              "      <td>2012-05-08 23:01:28.0</td>\n",
              "      <td>2</td>\n",
              "      <td>966f68353622feb</td>\n",
              "      <td>ffd53a3bb2db6f1</td>\n",
              "      <td>19e2e</td>\n",
              "      <td>19e2e</td>\n",
              "      <td>+38u2u/rfx</td>\n",
              "      <td>+38u2u/rfx</td>\n",
              "    </tr>\n",
              "    <tr>\n",
              "      <th>1</th>\n",
              "      <td>sms</td>\n",
              "      <td>0</td>\n",
              "      <td>2012-05-08 23:01:31.0</td>\n",
              "      <td>1</td>\n",
              "      <td>a0a597384c612d7</td>\n",
              "      <td>cf3b218f1dde792</td>\n",
              "      <td>19e2e</td>\n",
              "      <td>19e2e</td>\n",
              "      <td>+Fs4mTvdKx</td>\n",
              "      <td>+Fs4mTvdKx</td>\n",
              "    </tr>\n",
              "    <tr>\n",
              "      <th>2</th>\n",
              "      <td>Voice</td>\n",
              "      <td>10</td>\n",
              "      <td>2012-05-08 23:02:59.0</td>\n",
              "      <td>1</td>\n",
              "      <td>5441a9a58c97132</td>\n",
              "      <td>52f8b299515b9b7</td>\n",
              "      <td>19e2e</td>\n",
              "      <td>19e2e</td>\n",
              "      <td>+ZaaZozy/+</td>\n",
              "      <td>+ZaaZozy/+</td>\n",
              "    </tr>\n",
              "    <tr>\n",
              "      <th>3</th>\n",
              "      <td>sms</td>\n",
              "      <td>0</td>\n",
              "      <td>2012-05-08 23:03:04.0</td>\n",
              "      <td>0</td>\n",
              "      <td>8ab8b9ed6989f61</td>\n",
              "      <td>e09e736e46c5c3d</td>\n",
              "      <td>19e2e</td>\n",
              "      <td>19e2e</td>\n",
              "      <td>+cNeJzsTp3</td>\n",
              "      <td>+cNeJzsTp3</td>\n",
              "    </tr>\n",
              "  </tbody>\n",
              "</table>\n",
              "</div>"
            ],
            "text/plain": [
              "  product  value                   time  ... country_b     cell_id     site_id\n",
              "0   Voice     61  2012-05-08 23:01:28.0  ...     19e2e  +38u2u/rfx  +38u2u/rfx\n",
              "1     sms      0  2012-05-08 23:01:31.0  ...     19e2e  +Fs4mTvdKx  +Fs4mTvdKx\n",
              "2   Voice     10  2012-05-08 23:02:59.0  ...     19e2e  +ZaaZozy/+  +ZaaZozy/+\n",
              "3     sms      0  2012-05-08 23:03:04.0  ...     19e2e  +cNeJzsTp3  +cNeJzsTp3\n",
              "\n",
              "[4 rows x 10 columns]"
            ]
          },
          "metadata": {},
          "execution_count": 105
        }
      ]
    },
    {
      "cell_type": "markdown",
      "metadata": {
        "id": "CRTNSQf3GwEm"
      },
      "source": [
        "Combine the three datasets into one"
      ]
    },
    {
      "cell_type": "code",
      "metadata": {
        "colab": {
          "base_uri": "https://localhost:8080/",
          "height": 414
        },
        "id": "7RF9OkdRGzpR",
        "outputId": "a486e8d4-dbf5-494d-8d33-942ee9ef12de"
      },
      "source": [
        "# Combining all three DatatFrames 7,8 and 9\n",
        "# Since the have the same attributes, structure and data content\n",
        "telcom_dataset = pd.concat([dataset1, dataset2, dataset3])\n",
        "telcom_dataset"
      ],
      "execution_count": 106,
      "outputs": [
        {
          "output_type": "execute_result",
          "data": {
            "text/html": [
              "<div>\n",
              "<style scoped>\n",
              "    .dataframe tbody tr th:only-of-type {\n",
              "        vertical-align: middle;\n",
              "    }\n",
              "\n",
              "    .dataframe tbody tr th {\n",
              "        vertical-align: top;\n",
              "    }\n",
              "\n",
              "    .dataframe thead th {\n",
              "        text-align: right;\n",
              "    }\n",
              "</style>\n",
              "<table border=\"1\" class=\"dataframe\">\n",
              "  <thead>\n",
              "    <tr style=\"text-align: right;\">\n",
              "      <th></th>\n",
              "      <th>product</th>\n",
              "      <th>value</th>\n",
              "      <th>time</th>\n",
              "      <th>cell_on_site</th>\n",
              "      <th>dw_a_number</th>\n",
              "      <th>dw_b_number</th>\n",
              "      <th>country_a</th>\n",
              "      <th>country_b</th>\n",
              "      <th>cell_id</th>\n",
              "      <th>site_id</th>\n",
              "    </tr>\n",
              "  </thead>\n",
              "  <tbody>\n",
              "    <tr>\n",
              "      <th>0</th>\n",
              "      <td>Voice</td>\n",
              "      <td>0</td>\n",
              "      <td>2012-05-06 23:04:37.0</td>\n",
              "      <td>1</td>\n",
              "      <td>49fae048b547780</td>\n",
              "      <td>1a49f8b0ded9de6</td>\n",
              "      <td>19e2e</td>\n",
              "      <td>19e2e</td>\n",
              "      <td>/TJNe+Mmtu</td>\n",
              "      <td>/TJNe+Mmtu</td>\n",
              "    </tr>\n",
              "    <tr>\n",
              "      <th>1</th>\n",
              "      <td>sms</td>\n",
              "      <td>0</td>\n",
              "      <td>2012-05-06 23:05:25.0</td>\n",
              "      <td>0</td>\n",
              "      <td>7a54a6eaee19e65</td>\n",
              "      <td>93343ba6e41af95</td>\n",
              "      <td>19e2e</td>\n",
              "      <td>19e2e</td>\n",
              "      <td>/+cKZKIp41</td>\n",
              "      <td>/+cKZKIp41</td>\n",
              "    </tr>\n",
              "    <tr>\n",
              "      <th>2</th>\n",
              "      <td>sms</td>\n",
              "      <td>25</td>\n",
              "      <td>2012-05-06 23:05:41.0</td>\n",
              "      <td>0</td>\n",
              "      <td>6008887b0207d82</td>\n",
              "      <td>7aacc9709ce0a20</td>\n",
              "      <td>19e2e</td>\n",
              "      <td>19e2e</td>\n",
              "      <td>/u0FSD+ahi</td>\n",
              "      <td>/u0FSD+ahi</td>\n",
              "    </tr>\n",
              "    <tr>\n",
              "      <th>3</th>\n",
              "      <td>Voice</td>\n",
              "      <td>56</td>\n",
              "      <td>2012-05-06 23:05:42.0</td>\n",
              "      <td>1</td>\n",
              "      <td>7370032e20f4e96</td>\n",
              "      <td>6af4a60e74c91d3</td>\n",
              "      <td>19e2e</td>\n",
              "      <td>19e2e</td>\n",
              "      <td>+cNeJzsTp3</td>\n",
              "      <td>+cNeJzsTp3</td>\n",
              "    </tr>\n",
              "    <tr>\n",
              "      <th>4</th>\n",
              "      <td>Voice</td>\n",
              "      <td>14</td>\n",
              "      <td>2012-05-06 23:06:29.0</td>\n",
              "      <td>1</td>\n",
              "      <td>966ba4656e38e62</td>\n",
              "      <td>02aa736ee555d5c</td>\n",
              "      <td>19e2e</td>\n",
              "      <td>19e2e</td>\n",
              "      <td>051KhYDCpv</td>\n",
              "      <td>051KhYDCpv</td>\n",
              "    </tr>\n",
              "    <tr>\n",
              "      <th>...</th>\n",
              "      <td>...</td>\n",
              "      <td>...</td>\n",
              "      <td>...</td>\n",
              "      <td>...</td>\n",
              "      <td>...</td>\n",
              "      <td>...</td>\n",
              "      <td>...</td>\n",
              "      <td>...</td>\n",
              "      <td>...</td>\n",
              "      <td>...</td>\n",
              "    </tr>\n",
              "    <tr>\n",
              "      <th>4996</th>\n",
              "      <td>Voice</td>\n",
              "      <td>0</td>\n",
              "      <td>2012-05-09 00:01:43.0</td>\n",
              "      <td>3</td>\n",
              "      <td>467333ade2b4b9c</td>\n",
              "      <td>0ab2acd804d01fe</td>\n",
              "      <td>19e2e</td>\n",
              "      <td>19e2e</td>\n",
              "      <td>2aa04dcab7</td>\n",
              "      <td>f7d63a29e5</td>\n",
              "    </tr>\n",
              "    <tr>\n",
              "      <th>4997</th>\n",
              "      <td>Voice</td>\n",
              "      <td>62</td>\n",
              "      <td>2012-05-09 00:01:43.0</td>\n",
              "      <td>1</td>\n",
              "      <td>e077a6b74c5053c</td>\n",
              "      <td>4c8098eb6ea1a41</td>\n",
              "      <td>19e2e</td>\n",
              "      <td>19e2e</td>\n",
              "      <td>7f1f2f889f</td>\n",
              "      <td>b4ddb9e93c</td>\n",
              "    </tr>\n",
              "    <tr>\n",
              "      <th>4998</th>\n",
              "      <td>Voice</td>\n",
              "      <td>32</td>\n",
              "      <td>2012-05-09 00:01:43.0</td>\n",
              "      <td>1</td>\n",
              "      <td>77f53c39d27c050</td>\n",
              "      <td>9d064f013e2cab2</td>\n",
              "      <td>19e2e</td>\n",
              "      <td>19e2e</td>\n",
              "      <td>a4731e780e</td>\n",
              "      <td>d68260ef50</td>\n",
              "    </tr>\n",
              "    <tr>\n",
              "      <th>4999</th>\n",
              "      <td>Voice</td>\n",
              "      <td>30</td>\n",
              "      <td>2012-05-09 00:01:43.0</td>\n",
              "      <td>2</td>\n",
              "      <td>672ce74c418aa7a</td>\n",
              "      <td>f9ff5af59cf0d68</td>\n",
              "      <td>19e2e</td>\n",
              "      <td>19e2e</td>\n",
              "      <td>98ed726da2</td>\n",
              "      <td>b4130b54ab</td>\n",
              "    </tr>\n",
              "    <tr>\n",
              "      <th>5000</th>\n",
              "      <td>Voice</td>\n",
              "      <td>60</td>\n",
              "      <td>2012-05-09 00:01:43.0</td>\n",
              "      <td>2</td>\n",
              "      <td>6edeb4c55714650</td>\n",
              "      <td>7e60838216482a7</td>\n",
              "      <td>19e2e</td>\n",
              "      <td>19e2e</td>\n",
              "      <td>1c11a2fcbb</td>\n",
              "      <td>6d70dae094</td>\n",
              "    </tr>\n",
              "  </tbody>\n",
              "</table>\n",
              "<p>15003 rows × 10 columns</p>\n",
              "</div>"
            ],
            "text/plain": [
              "     product  value                   time  ... country_b     cell_id     site_id\n",
              "0      Voice      0  2012-05-06 23:04:37.0  ...     19e2e  /TJNe+Mmtu  /TJNe+Mmtu\n",
              "1        sms      0  2012-05-06 23:05:25.0  ...     19e2e  /+cKZKIp41  /+cKZKIp41\n",
              "2        sms     25  2012-05-06 23:05:41.0  ...     19e2e  /u0FSD+ahi  /u0FSD+ahi\n",
              "3      Voice     56  2012-05-06 23:05:42.0  ...     19e2e  +cNeJzsTp3  +cNeJzsTp3\n",
              "4      Voice     14  2012-05-06 23:06:29.0  ...     19e2e  051KhYDCpv  051KhYDCpv\n",
              "...      ...    ...                    ...  ...       ...         ...         ...\n",
              "4996   Voice      0  2012-05-09 00:01:43.0  ...     19e2e  2aa04dcab7  f7d63a29e5\n",
              "4997   Voice     62  2012-05-09 00:01:43.0  ...     19e2e  7f1f2f889f  b4ddb9e93c\n",
              "4998   Voice     32  2012-05-09 00:01:43.0  ...     19e2e  a4731e780e  d68260ef50\n",
              "4999   Voice     30  2012-05-09 00:01:43.0  ...     19e2e  98ed726da2  b4130b54ab\n",
              "5000   Voice     60  2012-05-09 00:01:43.0  ...     19e2e  1c11a2fcbb  6d70dae094\n",
              "\n",
              "[15003 rows x 10 columns]"
            ]
          },
          "metadata": {},
          "execution_count": 106
        }
      ]
    },
    {
      "cell_type": "markdown",
      "metadata": {
        "id": "EtccdyfRL6sb"
      },
      "source": [
        "# Splitting the date and time column"
      ]
    },
    {
      "cell_type": "code",
      "metadata": {
        "colab": {
          "base_uri": "https://localhost:8080/",
          "height": 202
        },
        "id": "b0Oo5G2qMAEM",
        "outputId": "158c161e-aa35-4819-ef92-9c4cf085a879"
      },
      "source": [
        "# to split the date and time column into separate columns\n",
        "\n",
        "telcom_dataset.head()\n",
        "\n",
        "# create a new column and solit the date_time column into 2\n",
        "\n",
        "telcom_dataset[['date', 'time']] = telcom_dataset.time.str.split(expand=True)\n",
        "telcom_dataset.head()"
      ],
      "execution_count": 108,
      "outputs": [
        {
          "output_type": "execute_result",
          "data": {
            "text/html": [
              "<div>\n",
              "<style scoped>\n",
              "    .dataframe tbody tr th:only-of-type {\n",
              "        vertical-align: middle;\n",
              "    }\n",
              "\n",
              "    .dataframe tbody tr th {\n",
              "        vertical-align: top;\n",
              "    }\n",
              "\n",
              "    .dataframe thead th {\n",
              "        text-align: right;\n",
              "    }\n",
              "</style>\n",
              "<table border=\"1\" class=\"dataframe\">\n",
              "  <thead>\n",
              "    <tr style=\"text-align: right;\">\n",
              "      <th></th>\n",
              "      <th>product</th>\n",
              "      <th>value</th>\n",
              "      <th>time</th>\n",
              "      <th>cell_on_site</th>\n",
              "      <th>dw_a_number</th>\n",
              "      <th>dw_b_number</th>\n",
              "      <th>country_a</th>\n",
              "      <th>country_b</th>\n",
              "      <th>cell_id</th>\n",
              "      <th>site_id</th>\n",
              "      <th>date</th>\n",
              "    </tr>\n",
              "  </thead>\n",
              "  <tbody>\n",
              "    <tr>\n",
              "      <th>0</th>\n",
              "      <td>Voice</td>\n",
              "      <td>0</td>\n",
              "      <td>23:04:37.0</td>\n",
              "      <td>1</td>\n",
              "      <td>49fae048b547780</td>\n",
              "      <td>1a49f8b0ded9de6</td>\n",
              "      <td>19e2e</td>\n",
              "      <td>19e2e</td>\n",
              "      <td>/TJNe+Mmtu</td>\n",
              "      <td>/TJNe+Mmtu</td>\n",
              "      <td>2012-05-06</td>\n",
              "    </tr>\n",
              "    <tr>\n",
              "      <th>1</th>\n",
              "      <td>sms</td>\n",
              "      <td>0</td>\n",
              "      <td>23:05:25.0</td>\n",
              "      <td>0</td>\n",
              "      <td>7a54a6eaee19e65</td>\n",
              "      <td>93343ba6e41af95</td>\n",
              "      <td>19e2e</td>\n",
              "      <td>19e2e</td>\n",
              "      <td>/+cKZKIp41</td>\n",
              "      <td>/+cKZKIp41</td>\n",
              "      <td>2012-05-06</td>\n",
              "    </tr>\n",
              "    <tr>\n",
              "      <th>2</th>\n",
              "      <td>sms</td>\n",
              "      <td>25</td>\n",
              "      <td>23:05:41.0</td>\n",
              "      <td>0</td>\n",
              "      <td>6008887b0207d82</td>\n",
              "      <td>7aacc9709ce0a20</td>\n",
              "      <td>19e2e</td>\n",
              "      <td>19e2e</td>\n",
              "      <td>/u0FSD+ahi</td>\n",
              "      <td>/u0FSD+ahi</td>\n",
              "      <td>2012-05-06</td>\n",
              "    </tr>\n",
              "    <tr>\n",
              "      <th>3</th>\n",
              "      <td>Voice</td>\n",
              "      <td>56</td>\n",
              "      <td>23:05:42.0</td>\n",
              "      <td>1</td>\n",
              "      <td>7370032e20f4e96</td>\n",
              "      <td>6af4a60e74c91d3</td>\n",
              "      <td>19e2e</td>\n",
              "      <td>19e2e</td>\n",
              "      <td>+cNeJzsTp3</td>\n",
              "      <td>+cNeJzsTp3</td>\n",
              "      <td>2012-05-06</td>\n",
              "    </tr>\n",
              "    <tr>\n",
              "      <th>4</th>\n",
              "      <td>Voice</td>\n",
              "      <td>14</td>\n",
              "      <td>23:06:29.0</td>\n",
              "      <td>1</td>\n",
              "      <td>966ba4656e38e62</td>\n",
              "      <td>02aa736ee555d5c</td>\n",
              "      <td>19e2e</td>\n",
              "      <td>19e2e</td>\n",
              "      <td>051KhYDCpv</td>\n",
              "      <td>051KhYDCpv</td>\n",
              "      <td>2012-05-06</td>\n",
              "    </tr>\n",
              "  </tbody>\n",
              "</table>\n",
              "</div>"
            ],
            "text/plain": [
              "  product  value        time  ...     cell_id     site_id        date\n",
              "0   Voice      0  23:04:37.0  ...  /TJNe+Mmtu  /TJNe+Mmtu  2012-05-06\n",
              "1     sms      0  23:05:25.0  ...  /+cKZKIp41  /+cKZKIp41  2012-05-06\n",
              "2     sms     25  23:05:41.0  ...  /u0FSD+ahi  /u0FSD+ahi  2012-05-06\n",
              "3   Voice     56  23:05:42.0  ...  +cNeJzsTp3  +cNeJzsTp3  2012-05-06\n",
              "4   Voice     14  23:06:29.0  ...  051KhYDCpv  051KhYDCpv  2012-05-06\n",
              "\n",
              "[5 rows x 11 columns]"
            ]
          },
          "metadata": {},
          "execution_count": 108
        }
      ]
    },
    {
      "cell_type": "markdown",
      "metadata": {
        "id": "UPQjr_BOKrhn"
      },
      "source": [
        "# Dropping unnecessary columns"
      ]
    },
    {
      "cell_type": "code",
      "metadata": {
        "colab": {
          "base_uri": "https://localhost:8080/",
          "height": 202
        },
        "id": "GF5e3gFUKu2E",
        "outputId": "0d9d1c75-c6da-4da6-a8d5-fb7995d76233"
      },
      "source": [
        "# Dropping unnecessary columns \n",
        "\n",
        "telcom_dataset = telcom_dataset.drop(columns = ['country_a' ,\t'country_b' ,'cell_on_site'])\n",
        "telcom_dataset.head()"
      ],
      "execution_count": 109,
      "outputs": [
        {
          "output_type": "execute_result",
          "data": {
            "text/html": [
              "<div>\n",
              "<style scoped>\n",
              "    .dataframe tbody tr th:only-of-type {\n",
              "        vertical-align: middle;\n",
              "    }\n",
              "\n",
              "    .dataframe tbody tr th {\n",
              "        vertical-align: top;\n",
              "    }\n",
              "\n",
              "    .dataframe thead th {\n",
              "        text-align: right;\n",
              "    }\n",
              "</style>\n",
              "<table border=\"1\" class=\"dataframe\">\n",
              "  <thead>\n",
              "    <tr style=\"text-align: right;\">\n",
              "      <th></th>\n",
              "      <th>product</th>\n",
              "      <th>value</th>\n",
              "      <th>time</th>\n",
              "      <th>dw_a_number</th>\n",
              "      <th>dw_b_number</th>\n",
              "      <th>cell_id</th>\n",
              "      <th>site_id</th>\n",
              "      <th>date</th>\n",
              "    </tr>\n",
              "  </thead>\n",
              "  <tbody>\n",
              "    <tr>\n",
              "      <th>0</th>\n",
              "      <td>Voice</td>\n",
              "      <td>0</td>\n",
              "      <td>23:04:37.0</td>\n",
              "      <td>49fae048b547780</td>\n",
              "      <td>1a49f8b0ded9de6</td>\n",
              "      <td>/TJNe+Mmtu</td>\n",
              "      <td>/TJNe+Mmtu</td>\n",
              "      <td>2012-05-06</td>\n",
              "    </tr>\n",
              "    <tr>\n",
              "      <th>1</th>\n",
              "      <td>sms</td>\n",
              "      <td>0</td>\n",
              "      <td>23:05:25.0</td>\n",
              "      <td>7a54a6eaee19e65</td>\n",
              "      <td>93343ba6e41af95</td>\n",
              "      <td>/+cKZKIp41</td>\n",
              "      <td>/+cKZKIp41</td>\n",
              "      <td>2012-05-06</td>\n",
              "    </tr>\n",
              "    <tr>\n",
              "      <th>2</th>\n",
              "      <td>sms</td>\n",
              "      <td>25</td>\n",
              "      <td>23:05:41.0</td>\n",
              "      <td>6008887b0207d82</td>\n",
              "      <td>7aacc9709ce0a20</td>\n",
              "      <td>/u0FSD+ahi</td>\n",
              "      <td>/u0FSD+ahi</td>\n",
              "      <td>2012-05-06</td>\n",
              "    </tr>\n",
              "    <tr>\n",
              "      <th>3</th>\n",
              "      <td>Voice</td>\n",
              "      <td>56</td>\n",
              "      <td>23:05:42.0</td>\n",
              "      <td>7370032e20f4e96</td>\n",
              "      <td>6af4a60e74c91d3</td>\n",
              "      <td>+cNeJzsTp3</td>\n",
              "      <td>+cNeJzsTp3</td>\n",
              "      <td>2012-05-06</td>\n",
              "    </tr>\n",
              "    <tr>\n",
              "      <th>4</th>\n",
              "      <td>Voice</td>\n",
              "      <td>14</td>\n",
              "      <td>23:06:29.0</td>\n",
              "      <td>966ba4656e38e62</td>\n",
              "      <td>02aa736ee555d5c</td>\n",
              "      <td>051KhYDCpv</td>\n",
              "      <td>051KhYDCpv</td>\n",
              "      <td>2012-05-06</td>\n",
              "    </tr>\n",
              "  </tbody>\n",
              "</table>\n",
              "</div>"
            ],
            "text/plain": [
              "  product  value        time  ...     cell_id     site_id        date\n",
              "0   Voice      0  23:04:37.0  ...  /TJNe+Mmtu  /TJNe+Mmtu  2012-05-06\n",
              "1     sms      0  23:05:25.0  ...  /+cKZKIp41  /+cKZKIp41  2012-05-06\n",
              "2     sms     25  23:05:41.0  ...  /u0FSD+ahi  /u0FSD+ahi  2012-05-06\n",
              "3   Voice     56  23:05:42.0  ...  +cNeJzsTp3  +cNeJzsTp3  2012-05-06\n",
              "4   Voice     14  23:06:29.0  ...  051KhYDCpv  051KhYDCpv  2012-05-06\n",
              "\n",
              "[5 rows x 8 columns]"
            ]
          },
          "metadata": {},
          "execution_count": 109
        }
      ]
    },
    {
      "cell_type": "markdown",
      "metadata": {
        "id": "VgngcLlS_eFb"
      },
      "source": [
        "Merge the data inn the telcom dataset with the cells_geo dataset"
      ]
    },
    {
      "cell_type": "code",
      "metadata": {
        "colab": {
          "base_uri": "https://localhost:8080/",
          "height": 324
        },
        "id": "_PAG7v42_jg5",
        "outputId": "d3588893-168a-49d4-dab6-779b1f74bd4e"
      },
      "source": [
        "# Join the concatenated DataFrame df with the cells_geo DataFrame i.e df1\n",
        "# I will use an inner join to make this merge\n",
        "# First I will drop the cell id column on the cells_geo DataFrame\n",
        "# This is because there are several cell ids per site but we are only intrested in the cell ids\n",
        "# that have other relevant data like value and product which is containted in the concatenated table above\n",
        "# I also deleted duplicates\n",
        "cells_geo = cells_geo.drop(columns=['cell_id','index'])\n",
        "cells_geo\n",
        "cells_geo_b = cells_geo.drop_duplicates()\n",
        "cells_geo_final = cells_geo_b[cells_geo_b['status'] == 'In Service']\n",
        "cells_geo_final\n",
        "\n",
        "df_all = pd.merge(telcom_dataset, cells_geo_final, how='inner', on='site_id')\n",
        "df_all.tail(4)"
      ],
      "execution_count": 87,
      "outputs": [
        {
          "output_type": "execute_result",
          "data": {
            "text/html": [
              "<div>\n",
              "<style scoped>\n",
              "    .dataframe tbody tr th:only-of-type {\n",
              "        vertical-align: middle;\n",
              "    }\n",
              "\n",
              "    .dataframe tbody tr th {\n",
              "        vertical-align: top;\n",
              "    }\n",
              "\n",
              "    .dataframe thead th {\n",
              "        text-align: right;\n",
              "    }\n",
              "</style>\n",
              "<table border=\"1\" class=\"dataframe\">\n",
              "  <thead>\n",
              "    <tr style=\"text-align: right;\">\n",
              "      <th></th>\n",
              "      <th>product</th>\n",
              "      <th>value</th>\n",
              "      <th>time</th>\n",
              "      <th>cell_on_site</th>\n",
              "      <th>dw_a_number</th>\n",
              "      <th>dw_b_number</th>\n",
              "      <th>country_a</th>\n",
              "      <th>country_b</th>\n",
              "      <th>cell_id</th>\n",
              "      <th>site_id</th>\n",
              "      <th>date</th>\n",
              "      <th>city</th>\n",
              "      <th>status</th>\n",
              "      <th>localisation</th>\n",
              "      <th>decoupzone</th>\n",
              "      <th>zonename</th>\n",
              "      <th>longitude</th>\n",
              "      <th>latitude</th>\n",
              "      <th>region</th>\n",
              "      <th>area</th>\n",
              "    </tr>\n",
              "  </thead>\n",
              "  <tbody>\n",
              "    <tr>\n",
              "      <th>10547</th>\n",
              "      <td>sms</td>\n",
              "      <td>0</td>\n",
              "      <td>2012-05-09 00:01:42.0</td>\n",
              "      <td>1</td>\n",
              "      <td>dd953c2ab18c1b7</td>\n",
              "      <td>4b30ffe72e8a405</td>\n",
              "      <td>19e2e</td>\n",
              "      <td>19e2e</td>\n",
              "      <td>9407858a4c</td>\n",
              "      <td>d236ec6ca8</td>\n",
              "      <td>2012-05-09</td>\n",
              "      <td>TIAPOUM</td>\n",
              "      <td>In Service</td>\n",
              "      <td>INTERIEUR</td>\n",
              "      <td>Grand-EST</td>\n",
              "      <td>ZONE C - Grand-EST</td>\n",
              "      <td>-3.020500</td>\n",
              "      <td>5.138750</td>\n",
              "      <td>SUD COMOE</td>\n",
              "      <td>ABIDJAN SOUTH</td>\n",
              "    </tr>\n",
              "    <tr>\n",
              "      <th>10548</th>\n",
              "      <td>Voice</td>\n",
              "      <td>47</td>\n",
              "      <td>2012-05-09 00:01:42.0</td>\n",
              "      <td>1</td>\n",
              "      <td>144d260d1961913</td>\n",
              "      <td>fc15d238a9d904f</td>\n",
              "      <td>19e2e</td>\n",
              "      <td>19e2e</td>\n",
              "      <td>99b81a5dd0</td>\n",
              "      <td>aa59cc7ced</td>\n",
              "      <td>2012-05-09</td>\n",
              "      <td>BLANFLA</td>\n",
              "      <td>In Service</td>\n",
              "      <td>INTERIEUR</td>\n",
              "      <td>Grand-SUD</td>\n",
              "      <td>ZONE B - Grand-SUD</td>\n",
              "      <td>-5.772972</td>\n",
              "      <td>6.843278</td>\n",
              "      <td>MARAHOUE</td>\n",
              "      <td>CENTRE NORTH</td>\n",
              "    </tr>\n",
              "    <tr>\n",
              "      <th>10549</th>\n",
              "      <td>Voice</td>\n",
              "      <td>17</td>\n",
              "      <td>2012-05-09 00:01:42.0</td>\n",
              "      <td>4</td>\n",
              "      <td>22e493a92442b73</td>\n",
              "      <td>c9e2c9c2fa3795a</td>\n",
              "      <td>19e2e</td>\n",
              "      <td>19e2e</td>\n",
              "      <td>2f50f4a1fb</td>\n",
              "      <td>cc45940406</td>\n",
              "      <td>2012-05-09</td>\n",
              "      <td>ADJAME</td>\n",
              "      <td>In Service</td>\n",
              "      <td>ABIDJAN</td>\n",
              "      <td>Abidjan_CENTRE</td>\n",
              "      <td>ZONE B - Abidjan_CENTRE</td>\n",
              "      <td>-4.023247</td>\n",
              "      <td>5.349442</td>\n",
              "      <td>LAGUNE</td>\n",
              "      <td>ABIDJAN NORTH</td>\n",
              "    </tr>\n",
              "    <tr>\n",
              "      <th>10550</th>\n",
              "      <td>sms</td>\n",
              "      <td>0</td>\n",
              "      <td>2012-05-09 00:01:43.0</td>\n",
              "      <td>2</td>\n",
              "      <td>32e2e7c90a9b0e9</td>\n",
              "      <td>32e2e7c90a9b0e9</td>\n",
              "      <td>19e2e</td>\n",
              "      <td>19e2e</td>\n",
              "      <td>25c671778e</td>\n",
              "      <td>ab91f5b21d</td>\n",
              "      <td>2012-05-09</td>\n",
              "      <td>DIABO</td>\n",
              "      <td>In Service</td>\n",
              "      <td>INTERIEUR</td>\n",
              "      <td>Grand-NORD</td>\n",
              "      <td>ZONE A - Grand-NORD</td>\n",
              "      <td>-5.171778</td>\n",
              "      <td>7.777056</td>\n",
              "      <td>VALLEE DU BANDAMA</td>\n",
              "      <td>CENTRE NORTH</td>\n",
              "    </tr>\n",
              "  </tbody>\n",
              "</table>\n",
              "</div>"
            ],
            "text/plain": [
              "      product  value  ...             region           area\n",
              "10547     sms      0  ...          SUD COMOE  ABIDJAN SOUTH\n",
              "10548   Voice     47  ...           MARAHOUE   CENTRE NORTH\n",
              "10549   Voice     17  ...             LAGUNE  ABIDJAN NORTH\n",
              "10550     sms      0  ...  VALLEE DU BANDAMA   CENTRE NORTH\n",
              "\n",
              "[4 rows x 20 columns]"
            ]
          },
          "metadata": {},
          "execution_count": 87
        }
      ]
    },
    {
      "cell_type": "code",
      "metadata": {
        "id": "n5YuQXVsE2Vo"
      },
      "source": [
        ""
      ],
      "execution_count": null,
      "outputs": []
    },
    {
      "cell_type": "markdown",
      "metadata": {
        "id": "ivrvc-yQN6IK"
      },
      "source": [
        "### Data Analysis\n"
      ]
    },
    {
      "cell_type": "markdown",
      "metadata": {
        "id": "h-qlVx4dq4wA"
      },
      "source": [
        "Most used city\n",
        "\n",
        "First, find the most used SITE_ID from the telcom dataset and then compare with the SITE_ID in the cells_geo dataset"
      ]
    },
    {
      "cell_type": "code",
      "metadata": {
        "colab": {
          "base_uri": "https://localhost:8080/"
        },
        "id": "sxlcw4F3JQOH",
        "outputId": "e379db67-27c0-405d-9662-38033df79aa7"
      },
      "source": [
        "# We can also use the count operation to count the number of times\n",
        "# each city appered in the consolidated dataset\n",
        "# After executing the code below, we can see that YOPOUGON was the most used city\n",
        "\n",
        "df_all.city.value_counts()"
      ],
      "execution_count": 121,
      "outputs": [
        {
          "output_type": "execute_result",
          "data": {
            "text/plain": [
              "YOPOUGON           1666\n",
              "ABOBO              1186\n",
              "COCODY              763\n",
              "ADJAME              499\n",
              "KOUMASSI            452\n",
              "                   ... \n",
              "KOBEDAIGOURE          1\n",
              "LAMADOUGOU            1\n",
              "TAOUDI                1\n",
              "SANANFEREDOUGOU       1\n",
              "MAHAPLEU              1\n",
              "Name: city, Length: 400, dtype: int64"
            ]
          },
          "metadata": {},
          "execution_count": 121
        }
      ]
    },
    {
      "cell_type": "markdown",
      "metadata": {
        "id": "MB52AVhl1rhP"
      },
      "source": [
        "**City that is used the most during business hours**\n",
        "Assuming business hours is from 7am to 5 pm, select cells whose date time is between 7am and 5pm"
      ]
    },
    {
      "cell_type": "code",
      "metadata": {
        "colab": {
          "base_uri": "https://localhost:8080/"
        },
        "id": "9fFmtRCvKEWX",
        "outputId": "fcff86cc-e8d4-41cb-ccdd-4d8d842a217d"
      },
      "source": [
        "#slice according to datetime\n",
        "# telcom_dataset_datetime = telcom_dataset.set_index('DATE_TIME')['2009-05-01' :'2010-03-01']\n",
        "# print(telcom_dataset_datetime)\n",
        "\n",
        "telcom_dataset[\"time\"] = pd.to_datetime(telcom_dataset[\"time\"])\n",
        "telcom_dataset[\"time\"]"
      ],
      "execution_count": 91,
      "outputs": [
        {
          "output_type": "execute_result",
          "data": {
            "text/plain": [
              "0      2012-05-06 23:04:37\n",
              "1      2012-05-06 23:05:25\n",
              "2      2012-05-06 23:05:41\n",
              "3      2012-05-06 23:05:42\n",
              "4      2012-05-06 23:06:29\n",
              "               ...        \n",
              "4996   2012-05-09 00:01:43\n",
              "4997   2012-05-09 00:01:43\n",
              "4998   2012-05-09 00:01:43\n",
              "4999   2012-05-09 00:01:43\n",
              "5000   2012-05-09 00:01:43\n",
              "Name: time, Length: 15003, dtype: datetime64[ns]"
            ]
          },
          "metadata": {},
          "execution_count": 91
        }
      ]
    },
    {
      "cell_type": "markdown",
      "metadata": {
        "id": "jzeD8TuBJ8iZ"
      },
      "source": [
        "**How frequently was each product used in the dataset**"
      ]
    },
    {
      "cell_type": "code",
      "metadata": {
        "colab": {
          "base_uri": "https://localhost:8080/",
          "height": 141
        },
        "id": "Aw7hd0RXJnOp",
        "outputId": "8a838f12-7e7e-4c44-a13a-24ce98dd31a0"
      },
      "source": [
        "# Here I am using the group by and count function \n",
        "# on a subset of the DataFrame in previous question\n",
        "\n",
        "df_price = df_all[['product', 'date', 'value']]\n",
        "df_price.groupby([ df_price['product']]).count()"
      ],
      "execution_count": 89,
      "outputs": [
        {
          "output_type": "execute_result",
          "data": {
            "text/html": [
              "<div>\n",
              "<style scoped>\n",
              "    .dataframe tbody tr th:only-of-type {\n",
              "        vertical-align: middle;\n",
              "    }\n",
              "\n",
              "    .dataframe tbody tr th {\n",
              "        vertical-align: top;\n",
              "    }\n",
              "\n",
              "    .dataframe thead th {\n",
              "        text-align: right;\n",
              "    }\n",
              "</style>\n",
              "<table border=\"1\" class=\"dataframe\">\n",
              "  <thead>\n",
              "    <tr style=\"text-align: right;\">\n",
              "      <th></th>\n",
              "      <th>date</th>\n",
              "      <th>value</th>\n",
              "    </tr>\n",
              "    <tr>\n",
              "      <th>product</th>\n",
              "      <th></th>\n",
              "      <th></th>\n",
              "    </tr>\n",
              "  </thead>\n",
              "  <tbody>\n",
              "    <tr>\n",
              "      <th>Voice</th>\n",
              "      <td>4656</td>\n",
              "      <td>4656</td>\n",
              "    </tr>\n",
              "    <tr>\n",
              "      <th>sms</th>\n",
              "      <td>5895</td>\n",
              "      <td>5895</td>\n",
              "    </tr>\n",
              "  </tbody>\n",
              "</table>\n",
              "</div>"
            ],
            "text/plain": [
              "         date  value\n",
              "product             \n",
              "Voice    4656   4656\n",
              "sms      5895   5895"
            ]
          },
          "metadata": {},
          "execution_count": 89
        }
      ]
    },
    {
      "cell_type": "markdown",
      "metadata": {
        "id": "YzbR3DkBJsAK"
      },
      "source": [
        "**What was the total billing price for each product in the dataset?**"
      ]
    },
    {
      "cell_type": "code",
      "metadata": {
        "colab": {
          "base_uri": "https://localhost:8080/",
          "height": 263
        },
        "id": "7dVLOpry1wpL",
        "outputId": "d8758f39-798c-46ad-b73a-48a8ac126f67"
      },
      "source": [
        "# Here I am using the group by and sum aggregate function\n",
        "\n",
        "df_price.groupby(['product', 'date']).sum()"
      ],
      "execution_count": 92,
      "outputs": [
        {
          "output_type": "execute_result",
          "data": {
            "text/html": [
              "<div>\n",
              "<style scoped>\n",
              "    .dataframe tbody tr th:only-of-type {\n",
              "        vertical-align: middle;\n",
              "    }\n",
              "\n",
              "    .dataframe tbody tr th {\n",
              "        vertical-align: top;\n",
              "    }\n",
              "\n",
              "    .dataframe thead th {\n",
              "        text-align: right;\n",
              "    }\n",
              "</style>\n",
              "<table border=\"1\" class=\"dataframe\">\n",
              "  <thead>\n",
              "    <tr style=\"text-align: right;\">\n",
              "      <th></th>\n",
              "      <th></th>\n",
              "      <th>value</th>\n",
              "    </tr>\n",
              "    <tr>\n",
              "      <th>product</th>\n",
              "      <th>date</th>\n",
              "      <th></th>\n",
              "    </tr>\n",
              "  </thead>\n",
              "  <tbody>\n",
              "    <tr>\n",
              "      <th rowspan=\"3\" valign=\"top\">Voice</th>\n",
              "      <th>2012-05-07</th>\n",
              "      <td>96033</td>\n",
              "    </tr>\n",
              "    <tr>\n",
              "      <th>2012-05-08</th>\n",
              "      <td>90332</td>\n",
              "    </tr>\n",
              "    <tr>\n",
              "      <th>2012-05-09</th>\n",
              "      <td>72723</td>\n",
              "    </tr>\n",
              "    <tr>\n",
              "      <th rowspan=\"3\" valign=\"top\">sms</th>\n",
              "      <th>2012-05-07</th>\n",
              "      <td>11603</td>\n",
              "    </tr>\n",
              "    <tr>\n",
              "      <th>2012-05-08</th>\n",
              "      <td>10738</td>\n",
              "    </tr>\n",
              "    <tr>\n",
              "      <th>2012-05-09</th>\n",
              "      <td>25476</td>\n",
              "    </tr>\n",
              "  </tbody>\n",
              "</table>\n",
              "</div>"
            ],
            "text/plain": [
              "                    value\n",
              "product date             \n",
              "Voice   2012-05-07  96033\n",
              "        2012-05-08  90332\n",
              "        2012-05-09  72723\n",
              "sms     2012-05-07  11603\n",
              "        2012-05-08  10738\n",
              "        2012-05-09  25476"
            ]
          },
          "metadata": {},
          "execution_count": 92
        }
      ]
    },
    {
      "cell_type": "markdown",
      "metadata": {
        "id": "xeYUy71HKUP5"
      },
      "source": [
        "**Which localisation by product were the most used in the dataset?**"
      ]
    },
    {
      "cell_type": "code",
      "metadata": {
        "colab": {
          "base_uri": "https://localhost:8080/",
          "height": 202
        },
        "id": "4h9RXp46KXAC",
        "outputId": "fafb4695-8eb4-4376-eb4e-9b6d3d993641"
      },
      "source": [
        "# We can respond to this question using the group by and  count function\n",
        "\n",
        "df_region = df_all[['region', 'localisation', 'product']]\n",
        "df_region.groupby(['localisation', 'product']).count()"
      ],
      "execution_count": 93,
      "outputs": [
        {
          "output_type": "execute_result",
          "data": {
            "text/html": [
              "<div>\n",
              "<style scoped>\n",
              "    .dataframe tbody tr th:only-of-type {\n",
              "        vertical-align: middle;\n",
              "    }\n",
              "\n",
              "    .dataframe tbody tr th {\n",
              "        vertical-align: top;\n",
              "    }\n",
              "\n",
              "    .dataframe thead th {\n",
              "        text-align: right;\n",
              "    }\n",
              "</style>\n",
              "<table border=\"1\" class=\"dataframe\">\n",
              "  <thead>\n",
              "    <tr style=\"text-align: right;\">\n",
              "      <th></th>\n",
              "      <th></th>\n",
              "      <th>region</th>\n",
              "    </tr>\n",
              "    <tr>\n",
              "      <th>localisation</th>\n",
              "      <th>product</th>\n",
              "      <th></th>\n",
              "    </tr>\n",
              "  </thead>\n",
              "  <tbody>\n",
              "    <tr>\n",
              "      <th rowspan=\"2\" valign=\"top\">ABIDJAN</th>\n",
              "      <th>Voice</th>\n",
              "      <td>2386</td>\n",
              "    </tr>\n",
              "    <tr>\n",
              "      <th>sms</th>\n",
              "      <td>3818</td>\n",
              "    </tr>\n",
              "    <tr>\n",
              "      <th rowspan=\"2\" valign=\"top\">INTERIEUR</th>\n",
              "      <th>Voice</th>\n",
              "      <td>2270</td>\n",
              "    </tr>\n",
              "    <tr>\n",
              "      <th>sms</th>\n",
              "      <td>2077</td>\n",
              "    </tr>\n",
              "  </tbody>\n",
              "</table>\n",
              "</div>"
            ],
            "text/plain": [
              "                      region\n",
              "localisation product        \n",
              "ABIDJAN      Voice      2386\n",
              "             sms        3818\n",
              "INTERIEUR    Voice      2270\n",
              "             sms        2077"
            ]
          },
          "metadata": {},
          "execution_count": 93
        }
      ]
    },
    {
      "cell_type": "markdown",
      "metadata": {
        "id": "ikyG1TBeNvNi"
      },
      "source": [
        "# Getting the region that has most users.\n"
      ]
    },
    {
      "cell_type": "code",
      "metadata": {
        "colab": {
          "base_uri": "https://localhost:8080/"
        },
        "id": "7CVrZpjANxzX",
        "outputId": "94f5aa87-cddc-4048-8165-34261e90780b"
      },
      "source": [
        "#\n",
        "region = pd.value_counts(df_all['region'])\n",
        "print(f\"\\nThe most used region in 3 days are:\\n\")\n",
        "print(f\"Region               Count\\n\\\n",
        "-------------------------\\n{region.head()}\")"
      ],
      "execution_count": 111,
      "outputs": [
        {
          "output_type": "stream",
          "name": "stdout",
          "text": [
            "\n",
            "The most used region in 3 days are:\n",
            "\n",
            "Region               Count\n",
            "-------------------------\n",
            "LAGUNE               6578\n",
            "BAS SASSANDRA         485\n",
            "LACS                  472\n",
            "HAUT SASSANDRA        434\n",
            "VALLEE DU BANDAMA     371\n",
            "Name: region, dtype: int64\n"
          ]
        }
      ]
    },
    {
      "cell_type": "markdown",
      "metadata": {
        "id": "hHqTrj1rP-Eu"
      },
      "source": [
        "# Explore product usage in high traffic cities"
      ]
    },
    {
      "cell_type": "code",
      "metadata": {
        "colab": {
          "base_uri": "https://localhost:8080/",
          "height": 496
        },
        "id": "LGKUXEgKQEbi",
        "outputId": "8f344b11-7051-4fe0-f936-ea1a7f7366b2"
      },
      "source": [
        "import matplotlib.pyplot as plt\n",
        "import seaborn as sns\n",
        "from google.colab import files\n",
        "\n",
        "product_usage = plt.figure(figsize=(8,8))\n",
        "usage = df_all['product'].value_counts()\n",
        "sns.barplot(x= usage, y=usage.index)\n",
        "plt.xlabel('Product Usage')\n",
        "plt.savefig('usage.png')\n",
        "files.download('usage.png')"
      ],
      "execution_count": 115,
      "outputs": [
        {
          "output_type": "display_data",
          "data": {
            "application/javascript": [
              "\n",
              "    async function download(id, filename, size) {\n",
              "      if (!google.colab.kernel.accessAllowed) {\n",
              "        return;\n",
              "      }\n",
              "      const div = document.createElement('div');\n",
              "      const label = document.createElement('label');\n",
              "      label.textContent = `Downloading \"${filename}\": `;\n",
              "      div.appendChild(label);\n",
              "      const progress = document.createElement('progress');\n",
              "      progress.max = size;\n",
              "      div.appendChild(progress);\n",
              "      document.body.appendChild(div);\n",
              "\n",
              "      const buffers = [];\n",
              "      let downloaded = 0;\n",
              "\n",
              "      const channel = await google.colab.kernel.comms.open(id);\n",
              "      // Send a message to notify the kernel that we're ready.\n",
              "      channel.send({})\n",
              "\n",
              "      for await (const message of channel.messages) {\n",
              "        // Send a message to notify the kernel that we're ready.\n",
              "        channel.send({})\n",
              "        if (message.buffers) {\n",
              "          for (const buffer of message.buffers) {\n",
              "            buffers.push(buffer);\n",
              "            downloaded += buffer.byteLength;\n",
              "            progress.value = downloaded;\n",
              "          }\n",
              "        }\n",
              "      }\n",
              "      const blob = new Blob(buffers, {type: 'application/binary'});\n",
              "      const a = document.createElement('a');\n",
              "      a.href = window.URL.createObjectURL(blob);\n",
              "      a.download = filename;\n",
              "      div.appendChild(a);\n",
              "      a.click();\n",
              "      div.remove();\n",
              "    }\n",
              "  "
            ],
            "text/plain": [
              "<IPython.core.display.Javascript object>"
            ]
          },
          "metadata": {}
        },
        {
          "output_type": "display_data",
          "data": {
            "application/javascript": [
              "download(\"download_c64d101e-9daa-4657-96b5-c6561d9bfadf\", \"usage.png\", 7271)"
            ],
            "text/plain": [
              "<IPython.core.display.Javascript object>"
            ]
          },
          "metadata": {}
        },
        {
          "output_type": "display_data",
          "data": {
            "image/png": "[encoded data removed]",
            "text/plain": [
              "<Figure size 576x576 with 1 Axes>"
            ]
          },
          "metadata": {
            "needs_background": "light"
          }
        }
      ]
    },
    {
      "cell_type": "markdown",
      "metadata": {
        "id": "RLjLq1I3Q0PZ"
      },
      "source": [
        "# SMS services are more frequently used"
      ]
    },
    {
      "cell_type": "code",
      "metadata": {
        "colab": {
          "base_uri": "https://localhost:8080/"
        },
        "id": "D45Jm-jNQ2gL",
        "outputId": "8f1e88fd-00b7-49d7-95a9-b998dea34e25"
      },
      "source": [
        "services = df_all['product'].value_counts(normalize=True)\n",
        "services"
      ],
      "execution_count": 117,
      "outputs": [
        {
          "output_type": "execute_result",
          "data": {
            "text/plain": [
              "sms      0.558715\n",
              "Voice    0.441285\n",
              "Name: product, dtype: float64"
            ]
          },
          "metadata": {},
          "execution_count": 117
        }
      ]
    },
    {
      "cell_type": "markdown",
      "metadata": {
        "id": "tqSIpTbySduW"
      },
      "source": [
        "#Which product brings in more money?"
      ]
    },
    {
      "cell_type": "code",
      "metadata": {
        "colab": {
          "base_uri": "https://localhost:8080/"
        },
        "id": "rK7dTsEuSfpp",
        "outputId": "af0ec088-e798-4629-f5ca-452ef9897140"
      },
      "source": [
        "profits = df_all.groupby(['product'])['value'].sum()\n",
        "(profits / profits.sum())*100"
      ],
      "execution_count": 123,
      "outputs": [
        {
          "output_type": "execute_result",
          "data": {
            "text/plain": [
              "product\n",
              "Voice    84.419609\n",
              "sms      15.580391\n",
              "Name: value, dtype: float64"
            ]
          },
          "metadata": {},
          "execution_count": 123
        }
      ]
    },
    {
      "cell_type": "markdown",
      "metadata": {
        "id": "lHInod1cSwWq"
      },
      "source": [
        "# Group by value"
      ]
    },
    {
      "cell_type": "code",
      "metadata": {
        "colab": {
          "base_uri": "https://localhost:8080/"
        },
        "id": "qgPMk0BVSnwd",
        "outputId": "e6d996d6-34b9-48bf-b100-09a71d81531a"
      },
      "source": [
        "\n",
        "df_all.groupby(['city'])['value'].sum().sort_values(ascending=False)"
      ],
      "execution_count": 126,
      "outputs": [
        {
          "output_type": "execute_result",
          "data": {
            "text/plain": [
              "city\n",
              "YOPOUGON           41970\n",
              "COCODY             37936\n",
              "ABOBO              23643\n",
              "KOUMASSI           14701\n",
              "TREICHVILLE        13597\n",
              "                   ...  \n",
              "ETUEBOUE               0\n",
              "EBIKRO                 0\n",
              "DOUGROUPALEGNOA        0\n",
              "SAMO                   0\n",
              "KONGASSO               0\n",
              "Name: value, Length: 400, dtype: int64"
            ]
          },
          "metadata": {},
          "execution_count": 126
        }
      ]
    },
    {
      "cell_type": "markdown",
      "metadata": {
        "id": "7NXR1DVvS7Oz"
      },
      "source": [
        "# Which city brings in more money per product?\n"
      ]
    },
    {
      "cell_type": "code",
      "metadata": {
        "colab": {
          "base_uri": "https://localhost:8080/",
          "height": 414
        },
        "id": "GOGsGNEZS8w9",
        "outputId": "967332f1-7f91-4e44-d198-d3fac3e30d11"
      },
      "source": [
        "product_bills = df_all.groupby(['city','product'])['value'].sum().reset_index()\n",
        "product_bills"
      ],
      "execution_count": 127,
      "outputs": [
        {
          "output_type": "execute_result",
          "data": {
            "text/html": [
              "<div>\n",
              "<style scoped>\n",
              "    .dataframe tbody tr th:only-of-type {\n",
              "        vertical-align: middle;\n",
              "    }\n",
              "\n",
              "    .dataframe tbody tr th {\n",
              "        vertical-align: top;\n",
              "    }\n",
              "\n",
              "    .dataframe thead th {\n",
              "        text-align: right;\n",
              "    }\n",
              "</style>\n",
              "<table border=\"1\" class=\"dataframe\">\n",
              "  <thead>\n",
              "    <tr style=\"text-align: right;\">\n",
              "      <th></th>\n",
              "      <th>city</th>\n",
              "      <th>product</th>\n",
              "      <th>value</th>\n",
              "    </tr>\n",
              "  </thead>\n",
              "  <tbody>\n",
              "    <tr>\n",
              "      <th>0</th>\n",
              "      <td>ABENGOUROU</td>\n",
              "      <td>Voice</td>\n",
              "      <td>1731</td>\n",
              "    </tr>\n",
              "    <tr>\n",
              "      <th>1</th>\n",
              "      <td>ABENGOUROU</td>\n",
              "      <td>sms</td>\n",
              "      <td>325</td>\n",
              "    </tr>\n",
              "    <tr>\n",
              "      <th>2</th>\n",
              "      <td>ABOBO</td>\n",
              "      <td>Voice</td>\n",
              "      <td>18009</td>\n",
              "    </tr>\n",
              "    <tr>\n",
              "      <th>3</th>\n",
              "      <td>ABOBO</td>\n",
              "      <td>sms</td>\n",
              "      <td>5634</td>\n",
              "    </tr>\n",
              "    <tr>\n",
              "      <th>4</th>\n",
              "      <td>ABOISSO</td>\n",
              "      <td>Voice</td>\n",
              "      <td>268</td>\n",
              "    </tr>\n",
              "    <tr>\n",
              "      <th>...</th>\n",
              "      <td>...</td>\n",
              "      <td>...</td>\n",
              "      <td>...</td>\n",
              "    </tr>\n",
              "    <tr>\n",
              "      <th>596</th>\n",
              "      <td>ZON-HOUNIEN</td>\n",
              "      <td>Voice</td>\n",
              "      <td>121</td>\n",
              "    </tr>\n",
              "    <tr>\n",
              "      <th>597</th>\n",
              "      <td>ZOUKOUGBEU</td>\n",
              "      <td>Voice</td>\n",
              "      <td>188</td>\n",
              "    </tr>\n",
              "    <tr>\n",
              "      <th>598</th>\n",
              "      <td>ZOUKOUGBEU</td>\n",
              "      <td>sms</td>\n",
              "      <td>50</td>\n",
              "    </tr>\n",
              "    <tr>\n",
              "      <th>599</th>\n",
              "      <td>ZUENOULA</td>\n",
              "      <td>Voice</td>\n",
              "      <td>1182</td>\n",
              "    </tr>\n",
              "    <tr>\n",
              "      <th>600</th>\n",
              "      <td>ZUENOULA</td>\n",
              "      <td>sms</td>\n",
              "      <td>100</td>\n",
              "    </tr>\n",
              "  </tbody>\n",
              "</table>\n",
              "<p>601 rows × 3 columns</p>\n",
              "</div>"
            ],
            "text/plain": [
              "            city product  value\n",
              "0     ABENGOUROU   Voice   1731\n",
              "1     ABENGOUROU     sms    325\n",
              "2          ABOBO   Voice  18009\n",
              "3          ABOBO     sms   5634\n",
              "4        ABOISSO   Voice    268\n",
              "..           ...     ...    ...\n",
              "596  ZON-HOUNIEN   Voice    121\n",
              "597   ZOUKOUGBEU   Voice    188\n",
              "598   ZOUKOUGBEU     sms     50\n",
              "599     ZUENOULA   Voice   1182\n",
              "600     ZUENOULA     sms    100\n",
              "\n",
              "[601 rows x 3 columns]"
            ]
          },
          "metadata": {},
          "execution_count": 127
        }
      ]
    },
    {
      "cell_type": "markdown",
      "metadata": {
        "id": "XuCpTmEcObsZ"
      },
      "source": [
        "# Recomendations"
      ]
    },
    {
      "cell_type": "markdown",
      "metadata": {
        "id": "eR_a-mlXOn8O"
      },
      "source": [
        "Results\n",
        "*   Voice is the most popular product\n",
        "*   'ffa6759bb2' is the busiest cell. Expansion on this cell needed\n",
        "\n",
        "Region to Expand\n",
        "\n",
        "After analysis, the following cities were identified to have the highest traffic based on available data and should therefore be the first cities to be considered in carrying out the upgrade plan:\n",
        "\n",
        "* YOPOUGON\n",
        "* ABOBO\n",
        "*COCODY\n",
        "*ADJAME\n",
        "*KOUMASSI\n",
        "*MARCORY\n",
        "*YAMOUSSOUKRO\n",
        "\n",
        "After comparison, the sms product was found to have a higher frequency of usage than the voice product. SMS occupying 61.4% while Voice occupies 38.5% of the total traffic. However, it is important to note that voice brings in 81.2% of the total profits while sms only brings in 18.7%.\n",
        "\n",
        "Among the high traffic cities, the following 5 cities bring in the highest profits, from both products:\n",
        "\n",
        "* YOPOUGON\n",
        "* COCODY\n",
        "* ABOBO\n",
        "* KOUMASSI\n",
        "* TREICHVILLE\n"
      ]
    }
  ]
}